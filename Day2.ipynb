{
  "cells": [
    {
      "cell_type": "markdown",
      "metadata": {
        "id": "view-in-github",
        "colab_type": "text"
      },
      "source": [
        "<a href=\"https://colab.research.google.com/github/RAMkong/webscraping/blob/main/Day2.ipynb\" target=\"_parent\"><img src=\"https://colab.research.google.com/assets/colab-badge.svg\" alt=\"Open In Colab\"/></a>"
      ]
    },
    {
      "cell_type": "code",
      "execution_count": 24,
      "id": "38984661",
      "metadata": {
        "id": "38984661"
      },
      "outputs": [],
      "source": [
        "import requests\n",
        "import bs4\n",
        "from bs4 import BeautifulSoup"
      ]
    },
    {
      "cell_type": "code",
      "execution_count": 25,
      "id": "d0bfc09f",
      "metadata": {
        "id": "d0bfc09f",
        "colab": {
          "base_uri": "https://localhost:8080/"
        },
        "outputId": "b355d06d-e123-4dc5-a9ec-adc8ea0800ed"
      },
      "outputs": [
        {
          "output_type": "execute_result",
          "data": {
            "text/plain": [
              "<Response [200]>"
            ]
          },
          "metadata": {},
          "execution_count": 25
        }
      ],
      "source": [
        "request = requests.get(\"https://www.timesjobs.com/candidate/job-search.html?searchType=personalizedSearch&from=submit&txtKeywords=python&txtLocation=\")\n",
        "request"
      ]
    },
    {
      "cell_type": "code",
      "execution_count": 26,
      "id": "ab035019",
      "metadata": {
        "id": "ab035019"
      },
      "outputs": [],
      "source": [
        "soup = bs4.BeautifulSoup(request.text,'lxml')"
      ]
    },
    {
      "cell_type": "code",
      "execution_count": 27,
      "id": "043d643c",
      "metadata": {
        "id": "043d643c",
        "colab": {
          "base_uri": "https://localhost:8080/"
        },
        "outputId": "d4591e2a-e8b9-46f7-878b-bd6f6fe2cd61"
      },
      "outputs": [
        {
          "output_type": "stream",
          "name": "stdout",
          "text": [
            "Company Name:\n",
            "IvanInfotechPvt.Ltd.\n",
            "\n",
            "Required Skills:\n",
            "\n",
            "rest,python,security,debugging\n",
            "\n",
            "\n",
            "Company Name:\n",
            "arttechnologyandsoftwareindiapvtltd\n",
            "\n",
            "Required Skills:\n",
            "\n",
            "rest,python,database,django,api\n",
            "\n",
            "\n",
            "Company Name:\n",
            "eastindiasecuritiesltd.\n",
            "\n",
            "Required Skills:\n",
            "python,hadoop,machinelearning\n",
            "\n",
            "\n",
            "Company Name:\n",
            "DREAMAJAXTECHNOLOGIES\n",
            "\n",
            "Required Skills:\n",
            "python,django,api,sql,nosql\n",
            "\n",
            "\n",
            "Company Name:\n",
            "xoniertechnologiespvtltd\n",
            "\n",
            "Required Skills:\n",
            "python,django,testingtools,debugging,storage\n",
            "\n",
            "\n",
            "Company Name:\n",
            "INFINITYGROUP\n",
            "\n",
            "Required Skills:\n",
            "python,css,django,html,bootstrap\n",
            "\n",
            "\n",
            "Company Name:\n",
            "HAPPYSQUAREOUTSOURCINGSERVICESPVT.LTD.\n",
            "(MoreJobs)\n",
            "Required Skills:\n",
            "\n",
            "AWS,RDBMS,MySQL,MariaDB,PostgreSQL,Redis,SQL,NGINX,Apache,HTML,CSS,Javascript,Python,Eclipse,Java,VSCode,HTML,CSS,Javascript,Python,python,Python,pip,Pandas,NumpyFlask,Java,Maven,GradleSpringframework,Hibernate,Apacheecosystem,container\n",
            "\n",
            "\n",
            "Company Name:\n",
            "InnOvatorWebSolutionsPvt.Ltd.\n",
            "\n",
            "Required Skills:\n",
            "\n",
            "rest,python,django,webdeveloper,mysql,api\n",
            "\n",
            "\n",
            "Company Name:\n",
            "AxisTechnolabs\n",
            "\n",
            "Required Skills:\n",
            "python,django,itskills,html5,api,jquery\n",
            "\n",
            "\n",
            "Company Name:\n",
            "SourcedeskGlobalPrivateLimited\n",
            "\n",
            "Required Skills:\n",
            "\n",
            "html5,storage,python,javascript,django,infrastructure\n",
            "\n",
            "\n",
            "Company Name:\n",
            "innefulabspvt.ltd.\n",
            "\n",
            "Required Skills:\n",
            "python,database,django,neo4j,mining,webcrawling\n",
            "\n",
            "\n",
            "Company Name:\n",
            "CONNECTING2WORK\n",
            "\n",
            "Required Skills:\n",
            "python,storage,django,testingtools,debugging\n",
            "\n",
            "\n",
            "Company Name:\n",
            "CANVERATRADERSPRIVATELIMITED\n",
            "\n",
            "Required Skills:\n",
            "python,rdbms,javascript,sql,spring,springboot,django,java\n",
            "\n",
            "\n",
            "Company Name:\n",
            "AxisTechnolabs\n",
            "\n",
            "Required Skills:\n",
            "python,css,userinteraction,bootstrap,openerp,database,xml,oops,html\n",
            "\n",
            "\n",
            "Company Name:\n",
            "NuageBiz.Tech\n",
            "\n",
            "Required Skills:\n",
            "python,mobile,teamplayer,svn,security,git,softwareengineering\n",
            "\n",
            "\n",
            "Company Name:\n",
            "AxisTechnolabs\n",
            "\n",
            "Required Skills:\n",
            "python,django,html5,teamplayer,angularjs,javascript\n",
            "\n",
            "\n",
            "Company Name:\n",
            "gammastackindore\n",
            "\n",
            "Required Skills:\n",
            "python,database,django,restapi,oops,machinelearning,artificialintelligence\n",
            "\n",
            "\n",
            "Company Name:\n",
            "pegasusknowledgesolutionsindiapvtltd.\n",
            "\n",
            "Required Skills:\n",
            "python,css,django,java,html,bootstrap,api,jquery,sql\n",
            "\n",
            "\n",
            "Company Name:\n",
            "TechasoftPvtLtd\n",
            "\n",
            "Required Skills:\n",
            "python,javascript,docker,django,postgresql,oops,mysql,mongodb,opencv\n",
            "\n",
            "\n",
            "Company Name:\n",
            "WBCSoftwareLab\n",
            "\n",
            "Required Skills:\n",
            "python,git,restapi,linux,mobile,mongodb,docker\n",
            "\n",
            "\n",
            "Company Name:\n",
            "FluperLimited\n",
            "\n",
            "Required Skills:\n",
            "\n",
            "c#,python,virtualreality,mobile,augmentedreality,opencv\n",
            "\n",
            "\n",
            "Company Name:\n",
            "CybageSoftwarePvtLtd\n",
            "\n",
            "Required Skills:\n",
            "python,html5,javascript,nosql,docker,django,softwaredeveloper,mongodb\n",
            "\n",
            "\n",
            "Company Name:\n",
            "SplendorNetTechnologiesPvt.Ltd.\n",
            "\n",
            "Required Skills:\n",
            "python,css,django,restapi,webdevelopment,html,angularjs,javascript,jquery\n",
            "\n",
            "\n",
            "Company Name:\n",
            "VibrantInfo\n",
            "\n",
            "Required Skills:\n",
            "\n",
            "rest,securitycompliance,python,svn,problemsolving,database,django,git,linux,mysql\n",
            "\n",
            "\n",
            "Company Name:\n",
            "WingGlobalITServices\n",
            "\n",
            "Required Skills:\n",
            "\n",
            "springboot,python,java,django,jpa,hibernate\n",
            "\n",
            "\n"
          ]
        }
      ],
      "source": [
        "jobs = soup.find_all('li',class_ ='clearfix job-bx wht-shd-bx')\n",
        "for job in jobs:\n",
        "    company_name = job.find('h3',class_ = 'joblist-comp-name').text.replace(' ','')\n",
        "    skills = job.find('span', class_=\"srp-skills\").text.replace(' ','')\n",
        "    posted_time = job.find('span', class_=\"sim-posted\").span.text\n",
        "    print(f'''Company Name:{company_name}Required Skills:{skills}''')"
      ]
    },
    {
      "cell_type": "markdown",
      "id": "a769fb4c",
      "metadata": {
        "id": "a769fb4c"
      },
      "source": [
        "print(\"Enter Some Skill that you are not familiar with\")\n",
        "unfamiliar_skill = input('> ')\n",
        "print(f'Filtering out {unfamiliar_skill}') # Filtering\n",
        "\n",
        "import requests\n",
        "import bs4\n",
        "import time\n",
        "\n",
        "def find_jobs():\n",
        "    request = requests.get(\"https://www.timesjobs.com/candidate/job-search.html?searchType=personalizedSearch&from=submit&txtKeywords=python&txtLocation=\")\n",
        "    soup = bs4.BeautifulSoup(request.text, 'lxml')\n",
        "    jobs = soup.find_all('li', class_='clearfix job-bx wht-shd-bx')\n",
        "    for index, job in enumerate(jobs):\n",
        "        posted_time = job.find('span', class_=\"sim-posted\").span.text # Applying condition\n",
        "        if 'few' in posted_time:\n",
        "            company_name = job.find('h3', class_='joblist-comp-name').text.strip()\n",
        "            skills = job.find('span', class_=\"srp-skills\").text.strip()\n",
        "            more_info = job.header.h2.a['href']\n",
        "            if unfamiliar_skill not in skills:\n",
        "                with open(f'posts/{index}.txt', 'w') as f:\n",
        "                    f.write(f\"Company Name: {company_name}\\n\")\n",
        "                    f.write(f\"Skills: {skills}\\n\")\n",
        "                    f.write(f\"More Info: {more_info}\\n\")\n",
        "                print(f'File saved: {index}')\n",
        "\n",
        "if __name__ == '__main__':\n",
        "    while True:\n",
        "        find_jobs()\n",
        "        time_wait = 10\n",
        "        print(f'Waiting time: {time_wait} minutes')\n",
        "        time.sleep(time_wait * 60)\n"
      ]
    },
    {
      "cell_type": "markdown",
      "id": "7c2154ba",
      "metadata": {
        "id": "7c2154ba"
      },
      "source": [
        "## Before Implementaion into one cell"
      ]
    },
    {
      "cell_type": "code",
      "execution_count": 28,
      "id": "063bb362",
      "metadata": {
        "id": "063bb362",
        "colab": {
          "base_uri": "https://localhost:8080/"
        },
        "outputId": "8c994b2a-6416-4c06-df7e-e0573e9d2c6d"
      },
      "outputs": [
        {
          "output_type": "stream",
          "name": "stdout",
          "text": [
            "\n",
            "Company Name:\n",
            "WingGlobalITServices\n",
            "\n",
            "\n",
            "Required Skills:\n",
            "\n",
            "springboot,python,java,django,jpa,hibernate\n",
            "\n",
            "\n",
            "\n",
            "\n"
          ]
        }
      ],
      "source": [
        "print(f'''\n",
        "Company Name:{company_name}\n",
        "Required Skills:{skills}\n",
        "''')\n",
        "print('')"
      ]
    },
    {
      "cell_type": "code",
      "execution_count": 29,
      "id": "a642b09a",
      "metadata": {
        "id": "a642b09a"
      },
      "outputs": [],
      "source": [
        "company_name = job.find('h3',class_ = 'joblist-comp-name').text.replace(' ','')"
      ]
    },
    {
      "cell_type": "code",
      "execution_count": 30,
      "id": "1ba3f54f",
      "metadata": {
        "id": "1ba3f54f"
      },
      "outputs": [],
      "source": [
        "skills = job.find('span', class_=\"srp-skills\").text.replace(' ','')"
      ]
    },
    {
      "cell_type": "code",
      "execution_count": 31,
      "id": "2fe4c52d",
      "metadata": {
        "id": "2fe4c52d",
        "colab": {
          "base_uri": "https://localhost:8080/"
        },
        "outputId": "e9deb59b-9ce8-41e4-a1df-eef139208896"
      },
      "outputs": [
        {
          "output_type": "stream",
          "name": "stdout",
          "text": [
            "\n",
            "\n",
            "springboot,python,java,django,jpa,hibernate\n",
            "\n",
            "\n"
          ]
        }
      ],
      "source": [
        "print(skills)"
      ]
    },
    {
      "cell_type": "code",
      "execution_count": 32,
      "id": "e60a145e",
      "metadata": {
        "id": "e60a145e",
        "colab": {
          "base_uri": "https://localhost:8080/"
        },
        "outputId": "f5cd8748-02d7-4438-a8b6-284956a1a8d5"
      },
      "outputs": [
        {
          "output_type": "stream",
          "name": "stdout",
          "text": [
            "\n",
            "WingGlobalITServices\n",
            "\n",
            "\n"
          ]
        }
      ],
      "source": [
        "print(company_name)"
      ]
    },
    {
      "cell_type": "code",
      "execution_count": 33,
      "id": "9d8c6506",
      "metadata": {
        "id": "9d8c6506"
      },
      "outputs": [],
      "source": [
        "posted_time = job.find('span', class_=\"sim-posted\").span.text"
      ]
    },
    {
      "cell_type": "code",
      "execution_count": 34,
      "id": "0b1b9630",
      "metadata": {
        "id": "0b1b9630",
        "colab": {
          "base_uri": "https://localhost:8080/"
        },
        "outputId": "e519b670-8b97-49e2-e344-f5bd0aed8915"
      },
      "outputs": [
        {
          "output_type": "stream",
          "name": "stdout",
          "text": [
            "Posted few days ago\n"
          ]
        }
      ],
      "source": [
        "print(posted_time)"
      ]
    },
    {
      "cell_type": "code",
      "execution_count": 35,
      "id": "0c56225c",
      "metadata": {
        "scrolled": true,
        "id": "0c56225c",
        "colab": {
          "base_uri": "https://localhost:8080/"
        },
        "outputId": "fcaa8d26-4148-4c31-c6a0-85a45c59deff"
      },
      "outputs": [
        {
          "output_type": "stream",
          "name": "stdout",
          "text": [
            "\n",
            "Company Name:\n",
            "WingGlobalITServices\n",
            "\n",
            "\n",
            "Required Skills:\n",
            "\n",
            "springboot,python,java,django,jpa,hibernate\n",
            "\n",
            "\n",
            "Date:Posted few days ago\n",
            "\n"
          ]
        }
      ],
      "source": [
        "print(f'''\n",
        "Company Name:{company_name}\n",
        "Required Skills:{skills}\n",
        "Date:{posted_time}\n",
        "''')"
      ]
    },
    {
      "cell_type": "code",
      "execution_count": 36,
      "id": "029db27b",
      "metadata": {
        "id": "029db27b",
        "colab": {
          "base_uri": "https://localhost:8080/"
        },
        "outputId": "b634b670-0f6b-4855-dc7f-dd52a36e6dc5"
      },
      "outputs": [
        {
          "output_type": "stream",
          "name": "stdout",
          "text": [
            "\n",
            "        Company Name:\n",
            "eastindiasecuritiesltd.\n",
            "\n",
            "\n",
            "        Required Skills:\n",
            "python,hadoop,machinelearning\n",
            "\n",
            "\n",
            "        Time:Posted few days ago\n",
            "        \n",
            "\n",
            "\n",
            "        Company Name:\n",
            "INFINITYGROUP\n",
            "\n",
            "\n",
            "        Required Skills:\n",
            "python,css,django,html,bootstrap\n",
            "\n",
            "\n",
            "        Time:Posted few days ago\n",
            "        \n",
            "\n",
            "\n",
            "        Company Name:\n",
            "SourcedeskGlobalPrivateLimited\n",
            "\n",
            "\n",
            "        Required Skills:\n",
            "\n",
            "html5,storage,python,javascript,django,infrastructure\n",
            "\n",
            "\n",
            "        Time:Posted few days ago\n",
            "        \n",
            "\n",
            "\n",
            "        Company Name:\n",
            "CONNECTING2WORK\n",
            "\n",
            "\n",
            "        Required Skills:\n",
            "python,storage,django,testingtools,debugging\n",
            "\n",
            "\n",
            "        Time:Posted few days ago\n",
            "        \n",
            "\n",
            "\n",
            "        Company Name:\n",
            "CybageSoftwarePvtLtd\n",
            "\n",
            "\n",
            "        Required Skills:\n",
            "python,html5,javascript,nosql,docker,django,softwaredeveloper,mongodb\n",
            "\n",
            "\n",
            "        Time:Posted few days ago\n",
            "        \n",
            "\n",
            "\n",
            "        Company Name:\n",
            "WingGlobalITServices\n",
            "\n",
            "\n",
            "        Required Skills:\n",
            "\n",
            "springboot,python,java,django,jpa,hibernate\n",
            "\n",
            "\n",
            "        Time:Posted few days ago\n",
            "        \n",
            "\n"
          ]
        }
      ],
      "source": [
        "jobs = soup.find_all('li',class_ ='clearfix job-bx wht-shd-bx')\n",
        "for job in jobs:\n",
        "    posted_time = job.find('span', class_=\"sim-posted\").span.text #Applying condition\n",
        "    if 'few' in posted_time:\n",
        "        company_name = job.find('h3',class_ = 'joblist-comp-name').text.replace(' ','')\n",
        "        skills = job.find('span', class_=\"srp-skills\").text.replace(' ','')\n",
        "        print(f'''\n",
        "        Company Name:{company_name}\n",
        "        Required Skills:{skills}\n",
        "        Time:{posted_time}\n",
        "        ''')\n",
        "\n",
        "        print('')\n"
      ]
    },
    {
      "cell_type": "code",
      "execution_count": 37,
      "id": "ddf63886",
      "metadata": {
        "id": "ddf63886",
        "colab": {
          "base_uri": "https://localhost:8080/"
        },
        "outputId": "03f98c48-a07e-4a57-e25e-cc2c7e873f54"
      },
      "outputs": [
        {
          "output_type": "stream",
          "name": "stdout",
          "text": [
            "\n",
            "            Company Name:\n",
            "INFINITYGROUP\n",
            "\n",
            "\n",
            "            Required Skills:\n",
            "python,css,django,html,bootstrap\n",
            "\n",
            "\n",
            "            \n",
            "\n",
            "\n",
            "            Company Name:\n",
            "SourcedeskGlobalPrivateLimited\n",
            "\n",
            "\n",
            "            Required Skills:\n",
            "\n",
            "html5,storage,python,javascript,django,infrastructure\n",
            "\n",
            "\n",
            "            \n",
            "\n",
            "\n",
            "            Company Name:\n",
            "CONNECTING2WORK\n",
            "\n",
            "\n",
            "            Required Skills:\n",
            "python,storage,django,testingtools,debugging\n",
            "\n",
            "\n",
            "            \n",
            "\n",
            "\n",
            "            Company Name:\n",
            "CybageSoftwarePvtLtd\n",
            "\n",
            "\n",
            "            Required Skills:\n",
            "python,html5,javascript,nosql,docker,django,softwaredeveloper,mongodb\n",
            "\n",
            "\n",
            "            \n",
            "\n",
            "\n",
            "            Company Name:\n",
            "WingGlobalITServices\n",
            "\n",
            "\n",
            "            Required Skills:\n",
            "\n",
            "springboot,python,java,django,jpa,hibernate\n",
            "\n",
            "\n",
            "            \n",
            "\n"
          ]
        }
      ],
      "source": [
        "jobs = soup.find_all('li',class_ ='clearfix job-bx wht-shd-bx')\n",
        "for job in jobs:\n",
        "    posted_time = job.find('span', class_=\"sim-posted\").span.text #Applying condition\n",
        "    if 'few' in posted_time:\n",
        "        company_name = job.find('h3',class_ = 'joblist-comp-name').text.replace(' ','')\n",
        "        skills = job.find('span', class_=\"srp-skills\").text.replace(' ','')\n",
        "        if 'django' in skills:\n",
        "            print(f'''\n",
        "            Company Name:{company_name}\n",
        "            Required Skills:{skills}\n",
        "            ''')\n",
        "            print('')\n"
      ]
    },
    {
      "cell_type": "markdown",
      "id": "a4a9c393",
      "metadata": {
        "id": "a4a9c393"
      },
      "source": [
        "## Final Code"
      ]
    },
    {
      "cell_type": "code",
      "execution_count": null,
      "id": "8d83ae52",
      "metadata": {
        "id": "8d83ae52",
        "outputId": "69e7f953-0be9-4748-fb3b-e393e0575cc7",
        "colab": {
          "base_uri": "https://localhost:8080/"
        }
      },
      "outputs": [
        {
          "metadata": {
            "tags": null
          },
          "name": "stdout",
          "output_type": "stream",
          "text": [
            "Enter Some Skill that you are not familiar with\n",
            "Filtering out pytorch\n",
            "File saved: posts/2.txt\n",
            "File saved: posts/5.txt\n",
            "File saved: posts/9.txt\n",
            "File saved: posts/11.txt\n",
            "File saved: posts/21.txt\n",
            "File saved: posts/24.txt\n",
            "Waiting time: 10 minutes\n"
          ]
        }
      ],
      "source": [
        "import os\n",
        "import requests\n",
        "import bs4\n",
        "import time\n",
        "\n",
        "print(\"Enter Some Skill that you are not familiar with\")\n",
        "unfamiliar_skill = input('> ')\n",
        "print(f'Filtering out {unfamiliar_skill}')  # Filtering\n",
        "\n",
        "def find_jobs():\n",
        "    request = requests.get(\"https://www.timesjobs.com/candidate/job-search.html?searchType=personalizedSearch&from=submit&txtKeywords=python&txtLocation=\")\n",
        "    soup = bs4.BeautifulSoup(request.text, 'lxml')\n",
        "    jobs = soup.find_all('li', class_='clearfix job-bx wht-shd-bx')\n",
        "    for index, job in enumerate(jobs):\n",
        "        posted_time = job.find('span', class_=\"sim-posted\").span.text  # Applying condition\n",
        "        if 'few' in posted_time:\n",
        "            company_name = job.find('h3', class_='joblist-comp-name').text.strip()\n",
        "            skills = job.find('span', class_=\"srp-skills\").text.strip()\n",
        "            more_info = job.header.h2.a['href']\n",
        "            if unfamiliar_skill not in skills:\n",
        "                file_path = f'posts/{index}.txt'\n",
        "                try:\n",
        "                    # Ensure directory exists\n",
        "                    os.makedirs('posts', exist_ok=True)\n",
        "                    # Write to file\n",
        "                    with open(file_path, 'w') as f:\n",
        "                        f.write(f\"Company Name: {company_name}\\n\")\n",
        "                        f.write(f\"Skills: {skills}\\n\")\n",
        "                        f.write(f\"More Info: {more_info}\\n\")\n",
        "                    print(f'File saved: {file_path}')\n",
        "                except Exception as e:\n",
        "                    print(f\"An error occurred while writing to {file_path}: {e}\")\n",
        "\n",
        "if __name__ == '__main__':\n",
        "    while True:\n",
        "        find_jobs()\n",
        "        time_wait = 10\n",
        "        print(f'Waiting time: {time_wait} minutes')\n",
        "        time.sleep(time_wait * 60)\n"
      ]
    }
  ],
  "metadata": {
    "kernelspec": {
      "display_name": "Python 3",
      "name": "python3"
    },
    "language_info": {
      "codemirror_mode": {
        "name": "ipython",
        "version": 3
      },
      "file_extension": ".py",
      "mimetype": "text/x-python",
      "name": "python",
      "nbconvert_exporter": "python",
      "pygments_lexer": "ipython3",
      "version": "3.11.4"
    },
    "colab": {
      "provenance": [],
      "include_colab_link": true
    }
  },
  "nbformat": 4,
  "nbformat_minor": 5
}